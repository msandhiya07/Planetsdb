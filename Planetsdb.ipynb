{
  "nbformat": 4,
  "nbformat_minor": 0,
  "metadata": {
    "colab": {
      "provenance": [],
      "authorship_tag": "ABX9TyNr2nv/Xph+7vzGvUq24+Rv",
      "include_colab_link": true
    },
    "kernelspec": {
      "name": "python3",
      "display_name": "Python 3"
    },
    "language_info": {
      "name": "python"
    }
  },
  "cells": [
    {
      "cell_type": "markdown",
      "metadata": {
        "id": "view-in-github",
        "colab_type": "text"
      },
      "source": [
        "<a href=\"https://colab.research.google.com/github/msandhiya07/Planetsdb/blob/main/Planetsdb.ipynb\" target=\"_parent\"><img src=\"https://colab.research.google.com/assets/colab-badge.svg\" alt=\"Open In Colab\"/></a>"
      ]
    },
    {
      "cell_type": "code",
      "execution_count": 1,
      "metadata": {
        "id": "ed2zunZHsC8k"
      },
      "outputs": [],
      "source": [
        "import pandas as pd\n",
        "import numpy as np\n",
        "import seaborn as sns\n",
        "import matplotlib.pyplot as plt"
      ]
    },
    {
      "cell_type": "code",
      "source": [
        "df=pd.read_csv(\"/content/planets.csv\")"
      ],
      "metadata": {
        "id": "1Hq7wiuhsKu5"
      },
      "execution_count": 3,
      "outputs": []
    },
    {
      "cell_type": "code",
      "source": [
        "df.shape"
      ],
      "metadata": {
        "colab": {
          "base_uri": "https://localhost:8080/"
        },
        "id": "OkQY5lzssbFo",
        "outputId": "f108a461-d687-41e9-86ec-63d13b803483"
      },
      "execution_count": 4,
      "outputs": [
        {
          "output_type": "execute_result",
          "data": {
            "text/plain": [
              "(8, 22)"
            ]
          },
          "metadata": {},
          "execution_count": 4
        }
      ]
    },
    {
      "cell_type": "code",
      "source": [
        "df.info()"
      ],
      "metadata": {
        "colab": {
          "base_uri": "https://localhost:8080/"
        },
        "id": "llE4w8NUssRm",
        "outputId": "cb5652e2-ed81-4d7d-aaf7-8b86c07086ab"
      },
      "execution_count": 5,
      "outputs": [
        {
          "output_type": "stream",
          "name": "stdout",
          "text": [
            "<class 'pandas.core.frame.DataFrame'>\n",
            "RangeIndex: 8 entries, 0 to 7\n",
            "Data columns (total 22 columns):\n",
            " #   Column                         Non-Null Count  Dtype  \n",
            "---  ------                         --------------  -----  \n",
            " 0   Planet                         8 non-null      object \n",
            " 1   Color                          8 non-null      object \n",
            " 2   Mass (10^24kg)                 8 non-null      float64\n",
            " 3   Diameter (km)                  8 non-null      int64  \n",
            " 4   Density (kg/m^3)               8 non-null      int64  \n",
            " 5   Surface Gravity(m/s^2)         8 non-null      float64\n",
            " 6   Escape Velocity (km/s)         8 non-null      float64\n",
            " 7   Rotation Period (hours)        8 non-null      float64\n",
            " 8   Length of Day (hours)          8 non-null      float64\n",
            " 9   Distance from Sun (10^6 km)    8 non-null      float64\n",
            " 10  Perihelion (10^6 km)           8 non-null      float64\n",
            " 11  Aphelion (10^6 km)             8 non-null      float64\n",
            " 12  Orbital Period (days)          8 non-null      object \n",
            " 13  Orbital Velocity (km/s)        8 non-null      float64\n",
            " 14  Orbital Inclination (degrees)  8 non-null      float64\n",
            " 15  Orbital Eccentricity           8 non-null      float64\n",
            " 16  Obliquity to Orbit (degrees)   8 non-null      float64\n",
            " 17  Mean Temperature (C)           8 non-null      int64  \n",
            " 18  Surface Pressure (bars)        8 non-null      object \n",
            " 19  Number of Moons                8 non-null      int64  \n",
            " 20  Ring System?                   8 non-null      object \n",
            " 21  Global Magnetic Field?         8 non-null      object \n",
            "dtypes: float64(12), int64(4), object(6)\n",
            "memory usage: 1.5+ KB\n"
          ]
        }
      ]
    },
    {
      "cell_type": "code",
      "source": [],
      "metadata": {
        "id": "R4Cw3IfFsuDC"
      },
      "execution_count": null,
      "outputs": []
    }
  ]
}